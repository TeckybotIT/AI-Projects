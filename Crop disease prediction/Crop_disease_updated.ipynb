{
 "cells": [
  {
   "cell_type": "code",
   "execution_count": 2,
   "metadata": {
    "colab": {
     "base_uri": "https://localhost:8080/"
    },
    "id": "_Oc8UzBUTGj3",
    "outputId": "30b724a9-8b54-4e30-90dd-86475c33d89f"
   },
   "outputs": [
    {
     "ename": "ModuleNotFoundError",
     "evalue": "No module named 'google.colab'",
     "output_type": "error",
     "traceback": [
      "\u001b[1;31m---------------------------------------------------------------------------\u001b[0m",
      "\u001b[1;31mModuleNotFoundError\u001b[0m                       Traceback (most recent call last)",
      "Cell \u001b[1;32mIn[2], line 2\u001b[0m\n\u001b[0;32m      1\u001b[0m \u001b[38;5;66;03m# Mount Google Drive to save model and files\u001b[39;00m\n\u001b[1;32m----> 2\u001b[0m \u001b[38;5;28;01mfrom\u001b[39;00m\u001b[38;5;250m \u001b[39m\u001b[38;5;21;01mgoogle\u001b[39;00m\u001b[38;5;21;01m.\u001b[39;00m\u001b[38;5;21;01mcolab\u001b[39;00m\u001b[38;5;250m \u001b[39m\u001b[38;5;28;01mimport\u001b[39;00m drive\n\u001b[0;32m      3\u001b[0m drive\u001b[38;5;241m.\u001b[39mmount(\u001b[38;5;124m'\u001b[39m\u001b[38;5;124m/content/drive\u001b[39m\u001b[38;5;124m'\u001b[39m)\n",
      "\u001b[1;31mModuleNotFoundError\u001b[0m: No module named 'google.colab'"
     ]
    }
   ],
   "source": [
    "# Mount Google Drive to save model and files\n",
    "from google.colab import drive\n",
    "drive.mount('/content/drive')"
   ]
  },
  {
   "cell_type": "code",
   "execution_count": 3,
   "metadata": {
    "colab": {
     "base_uri": "https://localhost:8080/",
     "height": 90
    },
    "id": "qskKHEC3TS0u",
    "outputId": "2abac964-455e-4331-e059-b657d7af2f57"
   },
   "outputs": [
    {
     "ename": "ModuleNotFoundError",
     "evalue": "No module named 'google.colab'",
     "output_type": "error",
     "traceback": [
      "\u001b[1;31m---------------------------------------------------------------------------\u001b[0m",
      "\u001b[1;31mModuleNotFoundError\u001b[0m                       Traceback (most recent call last)",
      "Cell \u001b[1;32mIn[3], line 2\u001b[0m\n\u001b[0;32m      1\u001b[0m \u001b[38;5;66;03m# Upload kaggle.json file\u001b[39;00m\n\u001b[1;32m----> 2\u001b[0m \u001b[38;5;28;01mfrom\u001b[39;00m\u001b[38;5;250m \u001b[39m\u001b[38;5;21;01mgoogle\u001b[39;00m\u001b[38;5;21;01m.\u001b[39;00m\u001b[38;5;21;01mcolab\u001b[39;00m\u001b[38;5;250m \u001b[39m\u001b[38;5;28;01mimport\u001b[39;00m files\n\u001b[0;32m      3\u001b[0m files\u001b[38;5;241m.\u001b[39mupload()  \u001b[38;5;66;03m# Choose kaggle.json file\u001b[39;00m\n",
      "\u001b[1;31mModuleNotFoundError\u001b[0m: No module named 'google.colab'"
     ]
    }
   ],
   "source": [
    "# Upload kaggle.json file\n",
    "from google.colab import files\n",
    "files.upload()  # Choose kaggle.json file"
   ]
  },
  {
   "cell_type": "code",
   "execution_count": null,
   "metadata": {
    "id": "_fWrdo7fTSxT"
   },
   "outputs": [],
   "source": [
    "# Configure kaggle API credentials\n",
    "!mkdir -p ~/.kaggle\n",
    "!cp kaggle.json ~/.kaggle/\n",
    "!chmod 600 ~/.kaggle/kaggle.json"
   ]
  },
  {
   "cell_type": "code",
   "execution_count": null,
   "metadata": {
    "colab": {
     "base_uri": "https://localhost:8080/"
    },
    "id": "7p6-M51BTSuM",
    "outputId": "3767dc04-9948-47d3-c634-6bac0bfd2b41"
   },
   "outputs": [],
   "source": [
    "# Download PlantVillage dataset from Kaggle\n",
    "!kaggle datasets download -d emmarex/plantdisease"
   ]
  },
  {
   "cell_type": "code",
   "execution_count": null,
   "metadata": {
    "colab": {
     "base_uri": "https://localhost:8080/"
    },
    "id": "q1KhrzKqTSrP",
    "outputId": "0106926f-9d20-4184-955a-688765e30256"
   },
   "outputs": [],
   "source": [
    "# Unzip dataset\n",
    "!unzip plantdisease.zip"
   ]
  },
  {
   "cell_type": "code",
   "execution_count": null,
   "metadata": {
    "colab": {
     "base_uri": "https://localhost:8080/"
    },
    "id": "IXU3Ew85TSii",
    "outputId": "e4b1381c-a722-400b-9a64-9130aeebd397"
   },
   "outputs": [],
   "source": [
    "# Verify dataset\n",
    "import os\n",
    "print(os.listdir(\"/content/plantvillage/PlantVillage\"))"
   ]
  },
  {
   "cell_type": "code",
   "execution_count": null,
   "metadata": {
    "colab": {
     "base_uri": "https://localhost:8080/"
    },
    "id": "7VlEETK1TSZW",
    "outputId": "713ea70e-fec6-4cc4-9a61-f4ababf86ca7"
   },
   "outputs": [],
   "source": [
    "import os\n",
    "\n",
    "# Automatically rename files to fix naming issues\n",
    "crop_folder = \"/content/plantvillage/PlantVillage\"\n",
    "for category in os.listdir(crop_folder):\n",
    "    category_path = os.path.join(crop_folder, category)\n",
    "    if os.path.isdir(category_path):\n",
    "        for filename in os.listdir(category_path):\n",
    "            if \" \" in filename:\n",
    "                new_filename = filename.replace(\" \", \"_\")\n",
    "                os.rename(\n",
    "                    os.path.join(category_path, filename),\n",
    "                    os.path.join(category_path, new_filename)\n",
    "                )\n",
    "                print(f\"Renamed: {filename} ➡️ {new_filename}\")"
   ]
  },
  {
   "cell_type": "code",
   "execution_count": null,
   "metadata": {
    "id": "7H4HAhRETSN9"
   },
   "outputs": [],
   "source": [
    "# Import necessary libraries\n",
    "import tensorflow as tf\n",
    "from tensorflow.keras.preprocessing.image import ImageDataGenerator\n",
    "from tensorflow.keras import layers, models\n",
    "import matplotlib.pyplot as plt\n",
    "import numpy as np\n",
    "import json\n",
    "import os"
   ]
  },
  {
   "cell_type": "code",
   "execution_count": null,
   "metadata": {
    "id": "cI6ylAHTTSCj"
   },
   "outputs": [],
   "source": [
    "# Define dataset directory\n",
    "dataset_dir = \"/content/plantvillage/PlantVillage\""
   ]
  },
  {
   "cell_type": "code",
   "execution_count": null,
   "metadata": {
    "id": "P2cHgW8cTiBi"
   },
   "outputs": [],
   "source": [
    "# Create ImageDataGenerator with Augmentation\n",
    "datagen = ImageDataGenerator(\n",
    "    rescale=1./255,         # Normalize pixel values\n",
    "    validation_split=0.2,   # Split data into 80% train and 20% validation\n",
    "    rotation_range=20,      # Rotate images for augmentation\n",
    "    zoom_range=0.2,         # Zoom in/out\n",
    "    horizontal_flip=True    # Flip images horizontally\n",
    ")"
   ]
  },
  {
   "cell_type": "code",
   "execution_count": null,
   "metadata": {
    "colab": {
     "base_uri": "https://localhost:8080/"
    },
    "id": "SpLo2L0_Th3V",
    "outputId": "cf82b1ce-cd53-4cab-e549-78ca4e55caba"
   },
   "outputs": [],
   "source": [
    "# Load training data\n",
    "train_data = datagen.flow_from_directory(\n",
    "    dataset_dir,\n",
    "    target_size=(224, 224),  # Resize images to 224x224\n",
    "    batch_size=32,\n",
    "    class_mode='categorical',\n",
    "    subset='training',\n",
    "    shuffle=True\n",
    ")"
   ]
  },
  {
   "cell_type": "code",
   "execution_count": null,
   "metadata": {
    "colab": {
     "base_uri": "https://localhost:8080/"
    },
    "id": "6_eoMTulThse",
    "outputId": "dcb3a594-4394-4297-9417-6f23ea362650"
   },
   "outputs": [],
   "source": [
    "# Load validation data\n",
    "val_data = datagen.flow_from_directory(\n",
    "    dataset_dir,\n",
    "    target_size=(224, 224),\n",
    "    batch_size=32,\n",
    "    class_mode='categorical',\n",
    "    subset='validation'\n",
    ")"
   ]
  },
  {
   "cell_type": "code",
   "execution_count": null,
   "metadata": {
    "colab": {
     "base_uri": "https://localhost:8080/"
    },
    "id": "_D3axIooThWJ",
    "outputId": "7ea49e66-3327-431b-ce13-77ce3ffc5704"
   },
   "outputs": [],
   "source": [
    "# Display class indices to verify correct order\n",
    "print(\"✅ Class Indices:\", train_data.class_indices)"
   ]
  },
  {
   "cell_type": "code",
   "execution_count": null,
   "metadata": {
    "colab": {
     "base_uri": "https://localhost:8080/"
    },
    "id": "kU8BdUpQTp_q",
    "outputId": "11475ae5-fe68-4e4b-e02b-cd0baa081b9c"
   },
   "outputs": [],
   "source": [
    "# Save class indices for future use in deployment\n",
    "with open('/content/class_indices.json', 'w') as file:\n",
    "    json.dump(train_data.class_indices, file)\n",
    "print(\"✅ Saved class indices to class_indices.json\")"
   ]
  },
  {
   "cell_type": "code",
   "execution_count": null,
   "metadata": {
    "colab": {
     "base_uri": "https://localhost:8080/",
     "height": 449
    },
    "id": "AhQvnxwLTp8N",
    "outputId": "3cce382e-6e94-43d3-8934-764ba029ea30"
   },
   "outputs": [],
   "source": [
    "# Build CNN model\n",
    "model = models.Sequential([\n",
    "    layers.Input(shape=(224, 224, 3)),\n",
    "\n",
    "    layers.Conv2D(32, (3, 3), activation='relu'),\n",
    "    layers.MaxPooling2D((2, 2)),\n",
    "\n",
    "    layers.Conv2D(64, (3, 3), activation='relu'),\n",
    "    layers.MaxPooling2D((2, 2)),\n",
    "\n",
    "    layers.Conv2D(128, (3, 3), activation='relu'),\n",
    "    layers.MaxPooling2D((2, 2)),\n",
    "\n",
    "    layers.Flatten(),\n",
    "    layers.Dense(128, activation='relu'),\n",
    "    layers.Dropout(0.5),\n",
    "    layers.Dense(train_data.num_classes, activation='softmax')  # Output layer for multi-class classification\n",
    "])\n",
    "\n",
    "# Compile the model\n",
    "model.compile(optimizer='adam',\n",
    "              loss='categorical_crossentropy',\n",
    "              metrics=['accuracy'])\n",
    "\n",
    "# Show model summary\n",
    "model.summary()\n"
   ]
  },
  {
   "cell_type": "code",
   "execution_count": null,
   "metadata": {
    "colab": {
     "base_uri": "https://localhost:8080/"
    },
    "id": "TT5T9uUGTp5t",
    "outputId": "81ff75ec-a8f2-4134-e6a5-08debddb97b2"
   },
   "outputs": [],
   "source": [
    "# Train the model\n",
    "history = model.fit(\n",
    "    train_data,\n",
    "    epochs=10,  # Increase epochs if needed\n",
    "    validation_data=val_data\n",
    ")"
   ]
  },
  {
   "cell_type": "code",
   "execution_count": null,
   "metadata": {
    "colab": {
     "base_uri": "https://localhost:8080/",
     "height": 410
    },
    "id": "pK3nfSfWTp3E",
    "outputId": "619842db-d3c8-4b80-a1d7-196680c8baf7"
   },
   "outputs": [],
   "source": [
    "# Plot training and validation accuracy and loss\n",
    "plt.figure(figsize=(12, 4))\n",
    "\n",
    "# Plot Accuracy\n",
    "plt.subplot(1, 2, 1)\n",
    "plt.plot(history.history['accuracy'], label='Training Accuracy')\n",
    "plt.plot(history.history['val_accuracy'], label='Validation Accuracy')\n",
    "plt.title('Accuracy over Epochs')\n",
    "plt.xlabel('Epochs')\n",
    "plt.ylabel('Accuracy')\n",
    "plt.legend()\n",
    "\n",
    "# Plot Loss\n",
    "plt.subplot(1, 2, 2)\n",
    "plt.plot(history.history['loss'], label='Training Loss')\n",
    "plt.plot(history.history['val_loss'], label='Validation Loss')\n",
    "plt.title('Loss over Epochs')\n",
    "plt.xlabel('Epochs')\n",
    "plt.ylabel('Loss')\n",
    "plt.legend()\n",
    "\n",
    "plt.show()"
   ]
  },
  {
   "cell_type": "code",
   "execution_count": null,
   "metadata": {
    "colab": {
     "base_uri": "https://localhost:8080/"
    },
    "id": "rO46ReT8Tp0N",
    "outputId": "6e83e8ff-0526-430c-b393-983838bdaa88"
   },
   "outputs": [],
   "source": [
    "# Evaluate model performance\n",
    "val_loss, val_accuracy = model.evaluate(val_data)\n",
    "print(f\"✅ Validation Accuracy: {val_accuracy * 100:.2f}%\")"
   ]
  },
  {
   "cell_type": "code",
   "execution_count": null,
   "metadata": {
    "colab": {
     "base_uri": "https://localhost:8080/",
     "height": 72
    },
    "id": "u27Etwg4TprT",
    "outputId": "504d8895-6a35-469f-cccb-b95723741965"
   },
   "outputs": [],
   "source": [
    "# Save trained model\n",
    "model.save('/content/crop_disease_model.h5')\n",
    "print(\"✅ Model saved successfully!\")\n",
    "\n",
    "# Download model and class indices\n",
    "from google.colab import files\n",
    "files.download('/content/crop_disease_model.h5')\n",
    "files.download('/content/class_indices.json')"
   ]
  },
  {
   "cell_type": "code",
   "execution_count": null,
   "metadata": {
    "colab": {
     "base_uri": "https://localhost:8080/",
     "height": 90
    },
    "id": "mLFwGuu8T5yS",
    "outputId": "7bc6b3d3-7f6a-48f8-e00d-8e028dcc160d"
   },
   "outputs": [],
   "source": [
    "from google.colab import files\n",
    "from tensorflow.keras.preprocessing import image\n",
    "import numpy as np\n",
    "import json\n",
    "\n",
    "# Upload an image to test prediction\n",
    "uploaded_file = files.upload()  # Upload a leaf image\n",
    "\n",
    "# Get uploaded image filename\n",
    "img_filename = list(uploaded_file.keys())[0]\n",
    "print(f\"✅ Uploaded file: {img_filename}\")\n",
    "\n",
    "# Load and preprocess the image\n",
    "def preprocess_image(img_path):\n",
    "    \"\"\"Load and preprocess the image for model prediction.\"\"\"\n",
    "    img = image.load_img(img_path, target_size=(224, 224))  # Resize image\n",
    "    img_array = image.img_to_array(img) / 255.0  # Normalize pixels\n",
    "    img_array = np.expand_dims(img_array, axis=0)  # Add batch dimension\n",
    "    return img_array\n",
    "\n",
    "# Preprocess the uploaded image\n",
    "img_array = preprocess_image(img_filename)"
   ]
  },
  {
   "cell_type": "code",
   "execution_count": null,
   "metadata": {
    "colab": {
     "base_uri": "https://localhost:8080/"
    },
    "id": "DGbfGmZxgUv-",
    "outputId": "f6c03ea6-9ef9-4a45-ff72-f5bce8052887"
   },
   "outputs": [],
   "source": [
    "# Load the trained model\n",
    "from tensorflow.keras.models import load_model\n",
    "\n",
    "# Load the trained crop disease detection model\n",
    "model_path = \"/content/crop_disease_model.h5\"  # Update path if different\n",
    "model = load_model(model_path)\n",
    "print(\"✅ Model loaded successfully!\")\n",
    "\n",
    "# Load class indices from JSON\n",
    "with open(\"/content/class_indices.json\", \"r\") as file:\n",
    "    class_indices = json.load(file)\n",
    "\n",
    "# Reverse class indices to get class names by index\n",
    "class_names = {v: k for k, v in class_indices.items()}\n",
    "print(\"✅ Class indices loaded and reversed!\")"
   ]
  },
  {
   "cell_type": "code",
   "execution_count": null,
   "metadata": {
    "colab": {
     "base_uri": "https://localhost:8080/"
    },
    "id": "6_o5OaZ9gWH_",
    "outputId": "6504d13e-15df-41c0-af87-5b6e0ad32b23"
   },
   "outputs": [],
   "source": [
    "# Make prediction on uploaded image\n",
    "predictions = model.predict(img_array)\n",
    "\n",
    "# Get the predicted class index and label\n",
    "predicted_class_index = np.argmax(predictions)\n",
    "predicted_class_label = class_names[predicted_class_index]\n",
    "\n",
    "# Show prediction result\n",
    "print(f\"✅ Predicted Class: {predicted_class_label.replace('_', ' ')}\")"
   ]
  },
  {
   "cell_type": "code",
   "execution_count": null,
   "metadata": {
    "id": "xwKharyDgbLb"
   },
   "outputs": [],
   "source": []
  }
 ],
 "metadata": {
  "accelerator": "GPU",
  "colab": {
   "gpuType": "T4",
   "provenance": []
  },
  "kernelspec": {
   "display_name": "Python 3 (ipykernel)",
   "language": "python",
   "name": "python3"
  },
  "language_info": {
   "codemirror_mode": {
    "name": "ipython",
    "version": 3
   },
   "file_extension": ".py",
   "mimetype": "text/x-python",
   "name": "python",
   "nbconvert_exporter": "python",
   "pygments_lexer": "ipython3",
   "version": "3.10.5"
  }
 },
 "nbformat": 4,
 "nbformat_minor": 4
}
