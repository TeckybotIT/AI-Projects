{
 "cells": [
  {
   "cell_type": "code",
   "execution_count": 1,
   "id": "e90c53f0-75b1-4f96-bb55-596aed14ef81",
   "metadata": {},
   "outputs": [],
   "source": [
    "# Import necessary libraries\n",
    "import pandas as pd\n",
    "import numpy as np\n",
    "from sklearn.model_selection import train_test_split\n",
    "from sklearn.preprocessing import LabelEncoder, StandardScaler\n",
    "from sklearn.ensemble import RandomForestClassifier\n",
    "from sklearn.metrics import classification_report, accuracy_score\n",
    "import joblib\n",
    "import json"
   ]
  },
  {
   "cell_type": "code",
   "execution_count": 2,
   "id": "3b95206c-1345-43e0-80d2-a2bd1618dded",
   "metadata": {},
   "outputs": [],
   "source": [
    "# Load dataset\n",
    "df = pd.read_csv(\"../data/soil_climate.csv\")"
   ]
  },
  {
   "cell_type": "code",
   "execution_count": 3,
   "id": "ce4a0dd6-d602-459f-8d47-f16f6ac99d4f",
   "metadata": {},
   "outputs": [
    {
     "data": {
      "text/html": [
       "<div>\n",
       "<style scoped>\n",
       "    .dataframe tbody tr th:only-of-type {\n",
       "        vertical-align: middle;\n",
       "    }\n",
       "\n",
       "    .dataframe tbody tr th {\n",
       "        vertical-align: top;\n",
       "    }\n",
       "\n",
       "    .dataframe thead th {\n",
       "        text-align: right;\n",
       "    }\n",
       "</style>\n",
       "<table border=\"1\" class=\"dataframe\">\n",
       "  <thead>\n",
       "    <tr style=\"text-align: right;\">\n",
       "      <th></th>\n",
       "      <th>Crop_Type</th>\n",
       "      <th>Soil_Type</th>\n",
       "      <th>Farm_Size_Acres</th>\n",
       "      <th>Irrigation_Available</th>\n",
       "      <th>Soil_pH</th>\n",
       "      <th>Soil_Nitrogen</th>\n",
       "      <th>Soil_Organic_Matter</th>\n",
       "      <th>Temperature</th>\n",
       "      <th>Rainfall</th>\n",
       "      <th>Humidity</th>\n",
       "      <th>Compatible</th>\n",
       "    </tr>\n",
       "  </thead>\n",
       "  <tbody>\n",
       "    <tr>\n",
       "      <th>0</th>\n",
       "      <td>summer paddy</td>\n",
       "      <td>Red and Yellow soils</td>\n",
       "      <td>79.838232</td>\n",
       "      <td>0</td>\n",
       "      <td>5.178290</td>\n",
       "      <td>198.870486</td>\n",
       "      <td>1.458550</td>\n",
       "      <td>20.172143</td>\n",
       "      <td>1861.635725</td>\n",
       "      <td>57.924332</td>\n",
       "      <td>0</td>\n",
       "    </tr>\n",
       "    <tr>\n",
       "      <th>1</th>\n",
       "      <td>Kulthi</td>\n",
       "      <td>Alluvial soils</td>\n",
       "      <td>33.932796</td>\n",
       "      <td>1</td>\n",
       "      <td>4.862699</td>\n",
       "      <td>27.781680</td>\n",
       "      <td>2.530317</td>\n",
       "      <td>33.646919</td>\n",
       "      <td>1400.435779</td>\n",
       "      <td>53.261910</td>\n",
       "      <td>0</td>\n",
       "    </tr>\n",
       "    <tr>\n",
       "      <th>2</th>\n",
       "      <td>Arhar</td>\n",
       "      <td>Laterite soils</td>\n",
       "      <td>59.673206</td>\n",
       "      <td>1</td>\n",
       "      <td>7.691357</td>\n",
       "      <td>62.500094</td>\n",
       "      <td>4.656399</td>\n",
       "      <td>22.535805</td>\n",
       "      <td>574.308028</td>\n",
       "      <td>65.547263</td>\n",
       "      <td>0</td>\n",
       "    </tr>\n",
       "    <tr>\n",
       "      <th>3</th>\n",
       "      <td>Gram</td>\n",
       "      <td>Alluvial soils</td>\n",
       "      <td>50.000261</td>\n",
       "      <td>0</td>\n",
       "      <td>6.482151</td>\n",
       "      <td>134.655093</td>\n",
       "      <td>2.268048</td>\n",
       "      <td>25.672081</td>\n",
       "      <td>1900.397115</td>\n",
       "      <td>34.972994</td>\n",
       "      <td>0</td>\n",
       "    </tr>\n",
       "    <tr>\n",
       "      <th>4</th>\n",
       "      <td>summer paddy</td>\n",
       "      <td>Red and Yellow soils</td>\n",
       "      <td>94.628058</td>\n",
       "      <td>0</td>\n",
       "      <td>6.054078</td>\n",
       "      <td>69.894889</td>\n",
       "      <td>1.448071</td>\n",
       "      <td>14.366488</td>\n",
       "      <td>1568.615247</td>\n",
       "      <td>25.953544</td>\n",
       "      <td>0</td>\n",
       "    </tr>\n",
       "  </tbody>\n",
       "</table>\n",
       "</div>"
      ],
      "text/plain": [
       "      Crop_Type             Soil_Type  Farm_Size_Acres  Irrigation_Available  \\\n",
       "0  summer paddy  Red and Yellow soils        79.838232                     0   \n",
       "1        Kulthi        Alluvial soils        33.932796                     1   \n",
       "2         Arhar        Laterite soils        59.673206                     1   \n",
       "3          Gram        Alluvial soils        50.000261                     0   \n",
       "4  summer paddy  Red and Yellow soils        94.628058                     0   \n",
       "\n",
       "    Soil_pH  Soil_Nitrogen  Soil_Organic_Matter  Temperature     Rainfall  \\\n",
       "0  5.178290     198.870486             1.458550    20.172143  1861.635725   \n",
       "1  4.862699      27.781680             2.530317    33.646919  1400.435779   \n",
       "2  7.691357      62.500094             4.656399    22.535805   574.308028   \n",
       "3  6.482151     134.655093             2.268048    25.672081  1900.397115   \n",
       "4  6.054078      69.894889             1.448071    14.366488  1568.615247   \n",
       "\n",
       "    Humidity  Compatible  \n",
       "0  57.924332           0  \n",
       "1  53.261910           0  \n",
       "2  65.547263           0  \n",
       "3  34.972994           0  \n",
       "4  25.953544           0  "
      ]
     },
     "execution_count": 3,
     "metadata": {},
     "output_type": "execute_result"
    }
   ],
   "source": [
    "df.head()"
   ]
  },
  {
   "cell_type": "code",
   "execution_count": 4,
   "id": "7683b058-d4c1-4d7c-b24c-074b2ff5ca72",
   "metadata": {},
   "outputs": [
    {
     "name": "stdout",
     "output_type": "stream",
     "text": [
      "Dataset Shape: (10000, 11)\n"
     ]
    }
   ],
   "source": [
    "print(\"Dataset Shape:\", df.shape)"
   ]
  },
  {
   "cell_type": "code",
   "execution_count": 5,
   "id": "0ea0a197-27e0-4de9-bf2f-71e690289d9c",
   "metadata": {},
   "outputs": [
    {
     "name": "stdout",
     "output_type": "stream",
     "text": [
      "Crop_Type                object\n",
      "Soil_Type                object\n",
      "Farm_Size_Acres         float64\n",
      "Irrigation_Available      int64\n",
      "Soil_pH                 float64\n",
      "Soil_Nitrogen           float64\n",
      "Soil_Organic_Matter     float64\n",
      "Temperature             float64\n",
      "Rainfall                float64\n",
      "Humidity                float64\n",
      "Compatible                int64\n",
      "dtype: object\n"
     ]
    }
   ],
   "source": [
    "# Check for categorical columns\n",
    "print(df.dtypes)"
   ]
  },
  {
   "cell_type": "code",
   "execution_count": 6,
   "id": "70e1bb6d-a5eb-4cd7-bc28-5d9d6886fdcb",
   "metadata": {},
   "outputs": [
    {
     "name": "stdout",
     "output_type": "stream",
     "text": [
      "Columns: Index(['Crop_Type', 'Soil_Type', 'Farm_Size_Acres', 'Irrigation_Available',\n",
      "       'Soil_pH', 'Soil_Nitrogen', 'Soil_Organic_Matter', 'Temperature',\n",
      "       'Rainfall', 'Humidity', 'Compatible'],\n",
      "      dtype='object')\n"
     ]
    }
   ],
   "source": [
    "print(\"Columns:\", df.columns)"
   ]
  },
  {
   "cell_type": "code",
   "execution_count": 7,
   "id": "63f781b8-4c11-42fd-a089-50c1ed327fa6",
   "metadata": {},
   "outputs": [
    {
     "name": "stdout",
     "output_type": "stream",
     "text": [
      "Unique Soil Types: ['Red and Yellow soils' 'Alluvial soils' 'Laterite soils' 'Black soils']\n"
     ]
    }
   ],
   "source": [
    "# Find unique crop types\n",
    "print(\"Unique Soil Types:\", df['Soil_Type'].unique())"
   ]
  },
  {
   "cell_type": "code",
   "execution_count": 8,
   "id": "e2cb92b4-be10-41e8-add3-f8dfe09ccceb",
   "metadata": {},
   "outputs": [
    {
     "name": "stdout",
     "output_type": "stream",
     "text": [
      "Unique Crop Types: ['summer paddy' 'Kulthi' 'Arhar' 'Gram' 'Pea' 'Soybean' 'Maize' 'Rice'\n",
      " 'Mustard' 'Urd' 'Wheat' 'Masoor' 'Millets' 'Groundnut' 'Niger' 'Tiwra'\n",
      " 'Til' 'Moong' 'Jwar']\n"
     ]
    }
   ],
   "source": [
    "# Find unique soil types\n",
    "print(\"Unique Crop Types:\", df['Crop_Type'].unique())"
   ]
  },
  {
   "cell_type": "code",
   "execution_count": 9,
   "id": "e8907785-5fd7-4813-b594-ad2179f2fa88",
   "metadata": {},
   "outputs": [
    {
     "name": "stdout",
     "output_type": "stream",
     "text": [
      "Soil Type Counts:\n",
      " Laterite soils          2539\n",
      "Alluvial soils          2528\n",
      "Red and Yellow soils    2474\n",
      "Black soils             2459\n",
      "Name: Soil_Type, dtype: int64\n"
     ]
    }
   ],
   "source": [
    "# Count frequency of each soil type\n",
    "print(\"Soil Type Counts:\\n\", df['Soil_Type'].value_counts())"
   ]
  },
  {
   "cell_type": "code",
   "execution_count": 10,
   "id": "1c1ce5e7-b286-4a55-a6ce-0575a2463044",
   "metadata": {},
   "outputs": [],
   "source": [
    "# Encode categorical columns\n",
    "label_encoders = {}\n",
    "for col in [\"Crop_Type\"]:\n",
    "    le = LabelEncoder()\n",
    "    df[col] = le.fit_transform(df[col])\n",
    "    label_encoders[col] = le"
   ]
  },
  {
   "cell_type": "code",
   "execution_count": 11,
   "id": "29f51bbc-a75a-4a8d-9447-c3660c1217c8",
   "metadata": {},
   "outputs": [],
   "source": [
    "# Features & target\n",
    "X = df.drop(\"Soil_Type\", axis=1)   # All features except Soil_Type\n",
    "y = df[\"Soil_Type\"]                # Predict Soil_Type"
   ]
  },
  {
   "cell_type": "code",
   "execution_count": 12,
   "id": "85a237d8-f600-44eb-9c02-e24a8064843e",
   "metadata": {},
   "outputs": [],
   "source": [
    "# Encode Soil_Type target separately\n",
    "soil_encoder = LabelEncoder()\n",
    "y = soil_encoder.fit_transform(y)\n",
    "label_encoders[\"Soil_Type\"] = soil_encoder"
   ]
  },
  {
   "cell_type": "code",
   "execution_count": 13,
   "id": "c7be32d4-7abe-4e42-99e0-0e6c0a816a3d",
   "metadata": {},
   "outputs": [],
   "source": [
    "# Scale features\n",
    "scaler = StandardScaler()\n",
    "X_scaled = scaler.fit_transform(X)"
   ]
  },
  {
   "cell_type": "code",
   "execution_count": 14,
   "id": "b6dfaf48-e3a7-4277-b799-f0cfc48b8365",
   "metadata": {},
   "outputs": [],
   "source": [
    "# Train-test split\n",
    "X_train, X_test, y_train, y_test = train_test_split(\n",
    "    X_scaled, y, test_size=0.2, random_state=42, stratify=y\n",
    ")"
   ]
  },
  {
   "cell_type": "code",
   "execution_count": 15,
   "id": "65ffe6ab-8ef1-4a53-99ee-cacd99d22603",
   "metadata": {},
   "outputs": [],
   "source": [
    "# Random Forest with class_weight balanced\n",
    "model = RandomForestClassifier(\n",
    "    n_estimators=200,\n",
    "    max_depth=15,\n",
    "    class_weight=\"balanced\",\n",
    "    random_state=42\n",
    ")"
   ]
  },
  {
   "cell_type": "code",
   "execution_count": 16,
   "id": "db76e755-5b1a-4174-9525-b98c54e5d5bc",
   "metadata": {},
   "outputs": [
    {
     "data": {
      "text/html": [
       "<style>#sk-container-id-1 {color: black;background-color: white;}#sk-container-id-1 pre{padding: 0;}#sk-container-id-1 div.sk-toggleable {background-color: white;}#sk-container-id-1 label.sk-toggleable__label {cursor: pointer;display: block;width: 100%;margin-bottom: 0;padding: 0.3em;box-sizing: border-box;text-align: center;}#sk-container-id-1 label.sk-toggleable__label-arrow:before {content: \"▸\";float: left;margin-right: 0.25em;color: #696969;}#sk-container-id-1 label.sk-toggleable__label-arrow:hover:before {color: black;}#sk-container-id-1 div.sk-estimator:hover label.sk-toggleable__label-arrow:before {color: black;}#sk-container-id-1 div.sk-toggleable__content {max-height: 0;max-width: 0;overflow: hidden;text-align: left;background-color: #f0f8ff;}#sk-container-id-1 div.sk-toggleable__content pre {margin: 0.2em;color: black;border-radius: 0.25em;background-color: #f0f8ff;}#sk-container-id-1 input.sk-toggleable__control:checked~div.sk-toggleable__content {max-height: 200px;max-width: 100%;overflow: auto;}#sk-container-id-1 input.sk-toggleable__control:checked~label.sk-toggleable__label-arrow:before {content: \"▾\";}#sk-container-id-1 div.sk-estimator input.sk-toggleable__control:checked~label.sk-toggleable__label {background-color: #d4ebff;}#sk-container-id-1 div.sk-label input.sk-toggleable__control:checked~label.sk-toggleable__label {background-color: #d4ebff;}#sk-container-id-1 input.sk-hidden--visually {border: 0;clip: rect(1px 1px 1px 1px);clip: rect(1px, 1px, 1px, 1px);height: 1px;margin: -1px;overflow: hidden;padding: 0;position: absolute;width: 1px;}#sk-container-id-1 div.sk-estimator {font-family: monospace;background-color: #f0f8ff;border: 1px dotted black;border-radius: 0.25em;box-sizing: border-box;margin-bottom: 0.5em;}#sk-container-id-1 div.sk-estimator:hover {background-color: #d4ebff;}#sk-container-id-1 div.sk-parallel-item::after {content: \"\";width: 100%;border-bottom: 1px solid gray;flex-grow: 1;}#sk-container-id-1 div.sk-label:hover label.sk-toggleable__label {background-color: #d4ebff;}#sk-container-id-1 div.sk-serial::before {content: \"\";position: absolute;border-left: 1px solid gray;box-sizing: border-box;top: 0;bottom: 0;left: 50%;z-index: 0;}#sk-container-id-1 div.sk-serial {display: flex;flex-direction: column;align-items: center;background-color: white;padding-right: 0.2em;padding-left: 0.2em;position: relative;}#sk-container-id-1 div.sk-item {position: relative;z-index: 1;}#sk-container-id-1 div.sk-parallel {display: flex;align-items: stretch;justify-content: center;background-color: white;position: relative;}#sk-container-id-1 div.sk-item::before, #sk-container-id-1 div.sk-parallel-item::before {content: \"\";position: absolute;border-left: 1px solid gray;box-sizing: border-box;top: 0;bottom: 0;left: 50%;z-index: -1;}#sk-container-id-1 div.sk-parallel-item {display: flex;flex-direction: column;z-index: 1;position: relative;background-color: white;}#sk-container-id-1 div.sk-parallel-item:first-child::after {align-self: flex-end;width: 50%;}#sk-container-id-1 div.sk-parallel-item:last-child::after {align-self: flex-start;width: 50%;}#sk-container-id-1 div.sk-parallel-item:only-child::after {width: 0;}#sk-container-id-1 div.sk-dashed-wrapped {border: 1px dashed gray;margin: 0 0.4em 0.5em 0.4em;box-sizing: border-box;padding-bottom: 0.4em;background-color: white;}#sk-container-id-1 div.sk-label label {font-family: monospace;font-weight: bold;display: inline-block;line-height: 1.2em;}#sk-container-id-1 div.sk-label-container {text-align: center;}#sk-container-id-1 div.sk-container {/* jupyter's `normalize.less` sets `[hidden] { display: none; }` but bootstrap.min.css set `[hidden] { display: none !important; }` so we also need the `!important` here to be able to override the default hidden behavior on the sphinx rendered scikit-learn.org. See: https://github.com/scikit-learn/scikit-learn/issues/21755 */display: inline-block !important;position: relative;}#sk-container-id-1 div.sk-text-repr-fallback {display: none;}</style><div id=\"sk-container-id-1\" class=\"sk-top-container\"><div class=\"sk-text-repr-fallback\"><pre>RandomForestClassifier(class_weight=&#x27;balanced&#x27;, max_depth=15, n_estimators=200,\n",
       "                       random_state=42)</pre><b>In a Jupyter environment, please rerun this cell to show the HTML representation or trust the notebook. <br />On GitHub, the HTML representation is unable to render, please try loading this page with nbviewer.org.</b></div><div class=\"sk-container\" hidden><div class=\"sk-item\"><div class=\"sk-estimator sk-toggleable\"><input class=\"sk-toggleable__control sk-hidden--visually\" id=\"sk-estimator-id-1\" type=\"checkbox\" checked><label for=\"sk-estimator-id-1\" class=\"sk-toggleable__label sk-toggleable__label-arrow\">RandomForestClassifier</label><div class=\"sk-toggleable__content\"><pre>RandomForestClassifier(class_weight=&#x27;balanced&#x27;, max_depth=15, n_estimators=200,\n",
       "                       random_state=42)</pre></div></div></div></div></div>"
      ],
      "text/plain": [
       "RandomForestClassifier(class_weight='balanced', max_depth=15, n_estimators=200,\n",
       "                       random_state=42)"
      ]
     },
     "execution_count": 16,
     "metadata": {},
     "output_type": "execute_result"
    }
   ],
   "source": [
    "# Train\n",
    "model.fit(X_train, y_train)"
   ]
  },
  {
   "cell_type": "code",
   "execution_count": 17,
   "id": "ccbac630-ab02-42ac-8c21-60c3dbf57fcb",
   "metadata": {},
   "outputs": [],
   "source": [
    "# Predictions\n",
    "y_pred = model.predict(X_test)"
   ]
  },
  {
   "cell_type": "code",
   "execution_count": 18,
   "id": "af82fbfd-d88e-49aa-9984-d7ad1bdfe642",
   "metadata": {},
   "outputs": [
    {
     "name": "stdout",
     "output_type": "stream",
     "text": [
      "Accuracy: 0.2495\n",
      "              precision    recall  f1-score   support\n",
      "\n",
      "           0       0.26      0.28      0.27       505\n",
      "           1       0.24      0.23      0.23       492\n",
      "           2       0.25      0.25      0.25       508\n",
      "           3       0.25      0.24      0.24       495\n",
      "\n",
      "    accuracy                           0.25      2000\n",
      "   macro avg       0.25      0.25      0.25      2000\n",
      "weighted avg       0.25      0.25      0.25      2000\n",
      "\n"
     ]
    }
   ],
   "source": [
    "# Results\n",
    "print(\"Accuracy:\", accuracy_score(y_test, y_pred))\n",
    "print(classification_report(y_test, y_pred))"
   ]
  },
  {
   "cell_type": "code",
   "execution_count": 19,
   "id": "fdfd9ec4-1a12-4113-b886-2a5cac01545f",
   "metadata": {},
   "outputs": [
    {
     "name": "stdout",
     "output_type": "stream",
     "text": [
      "✅ Soil Recommendation Model saved successfully!\n"
     ]
    }
   ],
   "source": [
    "# Save model + encoders + scaler\n",
    "joblib.dump(model, \"../models/soil_recommendation_model.pkl\")\n",
    "joblib.dump(label_encoders, \"../models/soil_label_encoders.pkl\")\n",
    "joblib.dump(scaler, \"../models/soil_scaler.pkl\")\n",
    "with open(\"../models/soil_feature_columns.json\", \"w\") as f:\n",
    "    json.dump(X.columns.tolist(), f)\n",
    "\n",
    "print(\"✅ Soil Recommendation Model saved successfully!\")"
   ]
  },
  {
   "cell_type": "code",
   "execution_count": 20,
   "id": "33086be9-7b15-4b3d-8037-f305123b1ab8",
   "metadata": {},
   "outputs": [],
   "source": [
    "# Load Necessary Libraries\n",
    "import joblib\n",
    "import json\n",
    "import numpy as np\n",
    "import pandas as pd"
   ]
  },
  {
   "cell_type": "code",
   "execution_count": 21,
   "id": "c9893ee3-8201-470a-9052-a1ac0dcb037c",
   "metadata": {},
   "outputs": [],
   "source": [
    "# Load the saved models\n",
    "model = joblib.load(\"../models/soil_recommendation_model.pkl\")\n",
    "label_encoders = joblib.load(\"../models/soil_label_encoders.pkl\")\n",
    "scaler = joblib.load(\"../models/soil_scaler.pkl\")\n",
    "with open(\"../models/soil_feature_columns.json\", \"r\") as f:\n",
    "    feature_columns = json.load(f)"
   ]
  },
  {
   "cell_type": "code",
   "execution_count": 22,
   "id": "59a703d0-893e-41e6-9972-26c1dcb99851",
   "metadata": {},
   "outputs": [],
   "source": [
    "# PREDICTION FUNCTION\n",
    "def predict_best_soil(input_data: dict):\n",
    "    # Convert to dataframe\n",
    "    df_input = pd.DataFrame([input_data], columns=feature_columns)\n",
    "\n",
    "    # Encode categorical features\n",
    "    if \"Crop_Type\" in df_input.columns:\n",
    "        le = label_encoders[\"Crop_Type\"]\n",
    "        df_input[\"Crop_Type\"] = le.transform(df_input[\"Crop_Type\"])\n",
    "\n",
    "    # Scale features\n",
    "    X_scaled = scaler.transform(df_input)\n",
    "\n",
    "    # Predict soil\n",
    "    prediction = model.predict(X_scaled)[0]\n",
    "    prob = model.predict_proba(X_scaled)[0]\n",
    "\n",
    "    soil_label = label_encoders[\"Soil_Type\"].inverse_transform([prediction])[0]\n",
    "\n",
    "    return {\n",
    "        \"Best_Soil\": soil_label,\n",
    "        \"Probabilities\": {\n",
    "            soil: float(p)\n",
    "            for soil, p in zip(label_encoders[\"Soil_Type\"].classes_, prob)\n",
    "        }\n",
    "    }"
   ]
  },
  {
   "cell_type": "code",
   "execution_count": 23,
   "id": "4a88b2de-5ab5-4f6e-8569-5fc5180a620d",
   "metadata": {},
   "outputs": [
    {
     "name": "stdout",
     "output_type": "stream",
     "text": [
      "\n",
      "🌱 Best Soil Prediction: {'Best_Soil': 'Black soils', 'Probabilities': {'Alluvial soils': 0.27871204027100654, 'Black soils': 0.31524102729785425, 'Laterite soils': 0.18389501137070755, 'Red and Yellow soils': 0.22215192106043177}}\n"
     ]
    }
   ],
   "source": [
    "test_input = {\n",
    "    \"Crop_Type\": \"Rice\",\n",
    "    \"Farm_Size_Acres\": 5,\n",
    "    \"Irrigation_Available\": 1,\n",
    "    \"Soil_pH\": 6.8,\n",
    "    \"Soil_Nitrogen\": 0.25,\n",
    "    \"Soil_Organic_Matter\": 1.5,\n",
    "    \"Temperature\": 28,\n",
    "    \"Rainfall\": 120,\n",
    "    \"Humidity\": 70,\n",
    "    \"Compatible\": 1\n",
    "}\n",
    "\n",
    "print(\"\\n🌱 Best Soil Prediction:\", predict_best_soil(test_input))"
   ]
  },
  {
   "cell_type": "code",
   "execution_count": null,
   "id": "8e4b8e8d-3b0e-41f9-8702-8f523d7ec8c0",
   "metadata": {},
   "outputs": [],
   "source": []
  }
 ],
 "metadata": {
  "kernelspec": {
   "display_name": "Python 3 (ipykernel)",
   "language": "python",
   "name": "python3"
  },
  "language_info": {
   "codemirror_mode": {
    "name": "ipython",
    "version": 3
   },
   "file_extension": ".py",
   "mimetype": "text/x-python",
   "name": "python",
   "nbconvert_exporter": "python",
   "pygments_lexer": "ipython3",
   "version": "3.10.11"
  }
 },
 "nbformat": 4,
 "nbformat_minor": 5
}
